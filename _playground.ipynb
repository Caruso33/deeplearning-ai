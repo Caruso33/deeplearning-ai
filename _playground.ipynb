{
 "cells": [
  {
   "cell_type": "code",
   "execution_count": 1,
   "metadata": {},
   "outputs": [],
   "source": [
    "import numpy as np"
   ]
  },
  {
   "cell_type": "code",
   "execution_count": 16,
   "metadata": {},
   "outputs": [],
   "source": [
    "a = np.random.rand(4,3,2)"
   ]
  },
  {
   "cell_type": "code",
   "execution_count": 17,
   "metadata": {},
   "outputs": [
    {
     "name": "stdout",
     "output_type": "stream",
     "text": [
      "[[[0.47052757 0.55240926]\n",
      "  [0.56168515 0.17406032]\n",
      "  [0.3005985  0.99838474]]\n",
      "\n",
      " [[0.25812089 0.78599616]\n",
      "  [0.65313297 0.86101835]\n",
      "  [0.69276399 0.45507622]]\n",
      "\n",
      " [[0.0642156  0.36037348]\n",
      "  [0.76287106 0.86829137]\n",
      "  [0.09008311 0.14496054]]\n",
      "\n",
      " [[0.36741323 0.32164129]\n",
      "  [0.01900045 0.26905442]\n",
      "  [0.10636561 0.35855052]]]\n"
     ]
    },
    {
     "data": {
      "text/plain": [
       "(4, 3, 2)"
      ]
     },
     "execution_count": 17,
     "metadata": {},
     "output_type": "execute_result"
    }
   ],
   "source": [
    "print(a)\n",
    "a.shape"
   ]
  },
  {
   "cell_type": "code",
   "execution_count": 27,
   "metadata": {},
   "outputs": [],
   "source": [
    "b = a.reshape(a.shape[0], -1).T \n",
    "# same as b = a.reshape(2 * 3, 4)"
   ]
  },
  {
   "cell_type": "code",
   "execution_count": 28,
   "metadata": {},
   "outputs": [
    {
     "name": "stdout",
     "output_type": "stream",
     "text": [
      "[[0.47052757 0.25812089 0.0642156  0.36741323]\n",
      " [0.55240926 0.78599616 0.36037348 0.32164129]\n",
      " [0.56168515 0.65313297 0.76287106 0.01900045]\n",
      " [0.17406032 0.86101835 0.86829137 0.26905442]\n",
      " [0.3005985  0.69276399 0.09008311 0.10636561]\n",
      " [0.99838474 0.45507622 0.14496054 0.35855052]]\n"
     ]
    },
    {
     "data": {
      "text/plain": [
       "(6, 4)"
      ]
     },
     "execution_count": 28,
     "metadata": {},
     "output_type": "execute_result"
    }
   ],
   "source": [
    "print(b)\n",
    "b.shape"
   ]
  },
  {
   "cell_type": "code",
   "execution_count": 33,
   "metadata": {},
   "outputs": [
    {
     "name": "stdout",
     "output_type": "stream",
     "text": [
      "[[0.25649897]] [[0.01769853 0.20653159 0.03226885]] [[0.13303582 0.45445746 0.17963533]]\n"
     ]
    }
   ],
   "source": [
    "c = np.random.rand(1,3)\n",
    "print(np.dot(c,c.T), np.multiply(c,c), c)"
   ]
  }
 ],
 "metadata": {
  "kernelspec": {
   "display_name": "Python 3",
   "language": "python",
   "name": "python3"
  },
  "language_info": {
   "codemirror_mode": {
    "name": "ipython",
    "version": 3
   },
   "file_extension": ".py",
   "mimetype": "text/x-python",
   "name": "python",
   "nbconvert_exporter": "python",
   "pygments_lexer": "ipython3",
   "version": "3.7.4"
  }
 },
 "nbformat": 4,
 "nbformat_minor": 4
}
